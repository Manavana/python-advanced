{
 "cells": [
  {
   "cell_type": "markdown",
   "metadata": {},
   "source": [
    "Ex.1, lesson-1"
   ]
  },
  {
   "cell_type": "code",
   "execution_count": 3,
   "metadata": {},
   "outputs": [
    {
     "name": "stdout",
     "output_type": "stream",
     "text": [
      "Первое слово -  разработка Тип данных -  <class 'str'>\n",
      "Второе слово -  сокет Тип данных -  <class 'str'>\n",
      "Третье слово -  декоратор Тип данных -  <class 'str'>\n",
      "Первое слово -  b'\\xd1\\x80\\xd0\\xb0\\xd0\\xb7\\xd1\\x80\\xd0\\xb0\\xd0\\xb1\\xd0\\xbe\\xd1\\x82\\xd0\\xba\\xd0\\xb0' Тип данных -  <class 'bytes'>\n",
      "Второе слово -  b'\\xd1\\x81\\xd0\\xbe\\xd0\\xba\\xd0\\xb5\\xd1\\x82' Тип данных -  <class 'bytes'>\n",
      "Третье слово -  b'\\xd0\\xb4\\xd0\\xb5\\xd0\\xba\\xd0\\xbe\\xd1\\x80\\xd0\\xb0\\xd1\\x82\\xd0\\xbe\\xd1\\x80' Тип данных -  <class 'bytes'>\n"
     ]
    }
   ],
   "source": [
    "first = 'разработка'\n",
    "second = 'сокет'\n",
    "third = 'декоратор'\n",
    "\n",
    "print('Первое слово - ', first, 'Тип данных - ', type(first))\n",
    "print('Второе слово - ', second, 'Тип данных - ', type(second))\n",
    "print('Третье слово - ', third, 'Тип данных - ', type(third))\n",
    "\n",
    "first_bytes = first.encode('utf-8')\n",
    "second_bytes = second.encode('utf-8')\n",
    "third_bytes = third.encode('utf-8')\n",
    "\n",
    "print('Первое слово - ', first_bytes, 'Тип данных - ', type(first_bytes))\n",
    "print('Второе слово - ', second_bytes, 'Тип данных - ', type(second_bytes))\n",
    "print('Третье слово - ', third_bytes, 'Тип данных - ', type(third_bytes))"
   ]
  },
  {
   "cell_type": "markdown",
   "metadata": {},
   "source": [
    "Ex.2, lesson-1"
   ]
  },
  {
   "cell_type": "code",
   "execution_count": 2,
   "metadata": {},
   "outputs": [
    {
     "name": "stdout",
     "output_type": "stream",
     "text": [
      "Тип данных -  <class 'bytes'> Первое слово -  b'class' Длина -  5\n",
      "Тип данных -  <class 'bytes'> Второе слово -  b'function' Длина -  8\n",
      "Тип данных -  <class 'bytes'> Третье слово -  b'method' Длина -  6\n"
     ]
    }
   ],
   "source": [
    "first = b'class'\n",
    "second = b'function'\n",
    "third = b'method'\n",
    "\n",
    "print('Тип данных - ', type(first), 'Первое слово - ', first, 'Длина - ', len(first))\n",
    "print('Тип данных - ', type(second), 'Второе слово - ', second, 'Длина - ', len(second))\n",
    "print('Тип данных - ', type(third), 'Третье слово - ', third, 'Длина - ', len(third))"
   ]
  },
  {
   "cell_type": "markdown",
   "metadata": {},
   "source": [
    "Ex.3, lesson-1"
   ]
  },
  {
   "cell_type": "code",
   "execution_count": 7,
   "metadata": {},
   "outputs": [
    {
     "name": "stdout",
     "output_type": "stream",
     "text": [
      "Первое слово -  attribute Тип данных -  <class 'str'>\n",
      "Второе слово -  класс Тип данных -  <class 'str'>\n",
      "Третье слово -  функция Тип данных -  <class 'str'>\n",
      "Четвертое слово -  type Тип данных -  <class 'str'>\n",
      "Первое слово -  b'attribute' Тип данных -  <class 'bytes'>\n",
      "Второе слово -  b'\\xd0\\xba\\xd0\\xbb\\xd0\\xb0\\xd1\\x81\\xd1\\x81' Тип данных -  <class 'bytes'>\n",
      "Третье слово -  b'\\xd1\\x84\\xd1\\x83\\xd0\\xbd\\xd0\\xba\\xd1\\x86\\xd0\\xb8\\xd1\\x8f' Тип данных -  <class 'bytes'>\n",
      "Четвертое слово -  b'type' Тип данных -  <class 'bytes'>\n"
     ]
    }
   ],
   "source": [
    "first = 'attribute'\n",
    "second = 'класс'\n",
    "third = 'функция'\n",
    "forth = 'type'\n",
    "\n",
    "print('Первое слово - ', first, 'Тип данных - ', type(first))\n",
    "print('Второе слово - ', second, 'Тип данных - ', type(second))\n",
    "print('Третье слово - ', third, 'Тип данных - ', type(third))\n",
    "print('Четвертое слово - ', forth, 'Тип данных - ', type(forth))\n",
    "\n",
    "first_bytes = first.encode('utf-8')\n",
    "second_bytes = second.encode('utf-8')\n",
    "third_bytes = third.encode('utf-8')\n",
    "forth_bytes = forth.encode('utf-8')\n",
    "\n",
    "print('Первое слово - ', first_bytes, 'Тип данных - ', type(first_bytes))\n",
    "print('Второе слово - ', second_bytes, 'Тип данных - ', type(second_bytes))\n",
    "print('Третье слово - ', third_bytes, 'Тип данных - ', type(third_bytes))\n",
    "print('Четвертое слово - ', forth_bytes, 'Тип данных - ', type(forth_bytes))"
   ]
  },
  {
   "cell_type": "markdown",
   "metadata": {},
   "source": [
    "Ex.4, lesson-1"
   ]
  },
  {
   "cell_type": "code",
   "execution_count": 9,
   "metadata": {},
   "outputs": [
    {
     "name": "stdout",
     "output_type": "stream",
     "text": [
      "Первое слово -  разработка Тип данных -  <class 'str'>\n",
      "Второе слово -  администрирование Тип данных -  <class 'str'>\n",
      "Третье слово -  protocol Тип данных -  <class 'str'>\n",
      "Четвертое слово -  standard Тип данных -  <class 'str'>\n",
      "Первое слово -  b'\\xd1\\x80\\xd0\\xb0\\xd0\\xb7\\xd1\\x80\\xd0\\xb0\\xd0\\xb1\\xd0\\xbe\\xd1\\x82\\xd0\\xba\\xd0\\xb0' Тип данных -  <class 'bytes'>\n",
      "Второе слово -  b'\\xd0\\xb0\\xd0\\xb4\\xd0\\xbc\\xd0\\xb8\\xd0\\xbd\\xd0\\xb8\\xd1\\x81\\xd1\\x82\\xd1\\x80\\xd0\\xb8\\xd1\\x80\\xd0\\xbe\\xd0\\xb2\\xd0\\xb0\\xd0\\xbd\\xd0\\xb8\\xd0\\xb5' Тип данных -  <class 'bytes'>\n",
      "Третье слово -  b'protocol' Тип данных -  <class 'bytes'>\n",
      "Четвертое слово -  b'standard' Тип данных -  <class 'bytes'>\n",
      "Первое слово -  разработка Тип данных -  <class 'str'>\n",
      "Второе слово -  администрирование Тип данных -  <class 'str'>\n",
      "Третье слово -  protocol Тип данных -  <class 'str'>\n",
      "Четвертое слово -  standard Тип данных -  <class 'str'>\n"
     ]
    }
   ],
   "source": [
    "first = 'разработка'\n",
    "second = 'администрирование'\n",
    "third = 'protocol'\n",
    "forth = 'standard'\n",
    "\n",
    "print('Первое слово - ', first, 'Тип данных - ', type(first))\n",
    "print('Второе слово - ', second, 'Тип данных - ', type(second))\n",
    "print('Третье слово - ', third, 'Тип данных - ', type(third))\n",
    "print('Четвертое слово - ', forth, 'Тип данных - ', type(forth))\n",
    "\n",
    "first_bytes = first.encode('utf-8')\n",
    "second_bytes = second.encode('utf-8')\n",
    "third_bytes = third.encode('utf-8')\n",
    "forth_bytes = forth.encode('utf-8')\n",
    "\n",
    "print('Первое слово - ', first_bytes, 'Тип данных - ', type(first_bytes))\n",
    "print('Второе слово - ', second_bytes, 'Тип данных - ', type(second_bytes))\n",
    "print('Третье слово - ', third_bytes, 'Тип данных - ', type(third_bytes))\n",
    "print('Четвертое слово - ', forth_bytes, 'Тип данных - ', type(forth_bytes))\n",
    "\n",
    "first_dec = first_bytes.decode('utf-8')\n",
    "second_dec = second_bytes.decode('utf-8')\n",
    "third_dec = third_bytes.decode('utf-8')\n",
    "forth_dec = forth_bytes.decode('utf-8')\n",
    "\n",
    "print('Первое слово - ', first_dec, 'Тип данных - ', type(first_dec))\n",
    "print('Второе слово - ', second_dec, 'Тип данных - ', type(second_dec))\n",
    "print('Третье слово - ', third_dec, 'Тип данных - ', type(third_dec))\n",
    "print('Четвертое слово - ', forth_dec, 'Тип данных - ', type(forth_dec))"
   ]
  },
  {
   "cell_type": "markdown",
   "metadata": {},
   "source": [
    "Ex.5, lesson-1"
   ]
  },
  {
   "cell_type": "code",
   "execution_count": 13,
   "metadata": {},
   "outputs": [
    {
     "name": "stdout",
     "output_type": "stream",
     "text": [
      "\n",
      "\n",
      "Обмен пакетами с yandex.ru [77.88.55.88] с 32 байтами данных:\n",
      "\n",
      "Ответ от 77.88.55.88: число байт=32 время=59мс TTL=49\n",
      "\n",
      "Ответ от 77.88.55.88: число байт=32 время=59мс TTL=49\n",
      "\n",
      "Ответ от 77.88.55.88: число байт=32 время=59мс TTL=49\n",
      "\n",
      "Ответ от 77.88.55.88: число байт=32 время=60мс TTL=49\n",
      "\n",
      "\n",
      "\n",
      "Статистика Ping для 77.88.55.88:\n",
      "\n",
      "    Пакетов: отправлено = 4, получено = 4, потеряно = 0\n",
      "\n",
      "    (0% потерь)\n",
      "\n",
      "Приблизительное время приема-передачи в мс:\n",
      "\n",
      "    Минимальное = 59мсек, Максимальное = 60 мсек, Среднее = 59 мсек\n",
      "\n",
      "\n",
      "\n",
      "Обмен пакетами с youtube.com [64.233.165.136] с 32 байтами данных:\n",
      "\n",
      "Ответ от 64.233.165.136: число байт=32 время=68мс TTL=37\n",
      "\n",
      "Ответ от 64.233.165.136: число байт=32 время=68мс TTL=37\n",
      "\n",
      "Ответ от 64.233.165.136: число байт=32 время=69мс TTL=37\n",
      "\n",
      "Ответ от 64.233.165.136: число байт=32 время=71мс TTL=37\n",
      "\n",
      "\n",
      "\n",
      "Статистика Ping для 64.233.165.136:\n",
      "\n",
      "    Пакетов: отправлено = 4, получено = 4, потеряно = 0\n",
      "\n",
      "    (0% потерь)\n",
      "\n",
      "Приблизительное время приема-передачи в мс:\n",
      "\n",
      "    Минимальное = 68мсек, Максимальное = 71 мсек, Среднее = 69 мсек\n",
      "\n"
     ]
    }
   ],
   "source": [
    "import subprocess\n",
    "import chardet\n",
    "\n",
    "\n",
    "args = ['ping', 'yandex.ru']\n",
    "\n",
    "# пингуем сервер, данные приходят в виде байтовых строк\n",
    "subproc_ping = subprocess.Popen(args, stdout=subprocess.PIPE)\n",
    "\n",
    "for line in subproc_ping.stdout:\n",
    "    # выясняем в какой кодировке к нам пришли данные с сервера\n",
    "    meta = chardet.detect(line)\n",
    "    meta.get('encoding')\n",
    "    # декодируем из исходной кодировки и перекодируем в utf-8\n",
    "    line = line.decode(meta.get('encoding')).encode('utf-8')\n",
    "    print(line.decode('utf-8'))\n",
    "\n",
    "\n",
    "args = ['ping', 'youtube.com']\n",
    "\n",
    "# пингуем сервер, данные приходят в виде байтовых строк\n",
    "subproc_ping = subprocess.Popen(args, stdout=subprocess.PIPE)\n",
    "\n",
    "for line in subproc_ping.stdout:\n",
    "    # выясняем в какой кодировке к нам пришли данные с сервера\n",
    "    meta = chardet.detect(line)\n",
    "    meta.get('encoding')\n",
    "    # декодируем из исходной кодировки и перекодируем в utf-8\n",
    "    line = line.decode(meta.get('encoding')).encode('utf-8')\n",
    "    print(line.decode('utf-8'))"
   ]
  },
  {
   "cell_type": "markdown",
   "metadata": {},
   "source": [
    "Ex.6, lesson-1"
   ]
  },
  {
   "cell_type": "code",
   "execution_count": 16,
   "metadata": {},
   "outputs": [
    {
     "name": "stdout",
     "output_type": "stream",
     "text": [
      "{'encoding': 'utf-8', 'confidence': 0.99, 'language': ''}\n",
      "«сетевое программирование», «сокет», «декоратор»\n"
     ]
    }
   ],
   "source": [
    "from chardet.universaldetector import UniversalDetector\n",
    "\n",
    "# Проверяем кодировку файла по умолчанию\n",
    "detector = UniversalDetector()\n",
    "with open('data/test_file.txt', 'rb') as file:\n",
    "    for line in file:\n",
    "        detector.feed(line)\n",
    "        if detector.done:\n",
    "            break\n",
    "    detector.close()\n",
    "print(detector.result)\n",
    "\n",
    "# Открываем файл в формате Unicode и выводим его содержимое\n",
    "with open('data/test_file.txt', encoding='utf-8') as file:\n",
    "    print(file.read())"
   ]
  },
  {
   "cell_type": "code",
   "execution_count": null,
   "metadata": {},
   "outputs": [],
   "source": []
  }
 ],
 "metadata": {
  "kernelspec": {
   "display_name": "Python 3",
   "language": "python",
   "name": "python3"
  },
  "language_info": {
   "codemirror_mode": {
    "name": "ipython",
    "version": 3
   },
   "file_extension": ".py",
   "mimetype": "text/x-python",
   "name": "python",
   "nbconvert_exporter": "python",
   "pygments_lexer": "ipython3",
   "version": "3.7.2"
  }
 },
 "nbformat": 4,
 "nbformat_minor": 2
}
